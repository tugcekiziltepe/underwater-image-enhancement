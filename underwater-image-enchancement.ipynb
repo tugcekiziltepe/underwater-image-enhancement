{
 "cells": [
  {
   "attachments": {},
   "cell_type": "markdown",
   "metadata": {},
   "source": [
    "# A Comparative Analysis of Underwater Image Enhancement Techniques\n",
    "\n",
    "Tuğçe Kızıltepe - 21946352\n",
    "Sümeyye Meryem Taşyürek - 218\n",
    "\n",
    "This is our course project for BBM444 Fundamentals of Computational Photography Course.\n",
    "\n",
    "Underwater imaging is critical for various applications, including marine biology and underwater exploration. However, underwater images often suffer from color distortion, contrast reduction, and detail loss due to the scattering and absorption of light by water. To address these challenges, various image enhancement techniques have been proposed, such as deep learning-based methods, physical models, and specific enhancement techniques. In this paper, we will perform a comparative analysis of these techniques using the widely used UIEB benchmark dataset. We evaluate their effectiveness in improving the visual quality of underwater images and provide insights into their limitations. We expect that deep learning-based methods generally outperform other techniques in terms of objective and subjective quality measures. However, physical models and specific enhancement techniques can still provide valuable improvements for certain types of images. This research can help researchers and practitioners choose appropriate methods for underwater image enhancement and inspire further developments in this field."
   ]
  },
  {
   "attachments": {},
   "cell_type": "markdown",
   "metadata": {},
   "source": [
    "## Setting Up"
   ]
  },
  {
   "cell_type": "code",
   "execution_count": null,
   "metadata": {
    "vscode": {
     "languageId": "plaintext"
    }
   },
   "outputs": [],
   "source": [
    "import os\n",
    "import numpy as numpy"
   ]
  },
  {
   "attachments": {},
   "cell_type": "markdown",
   "metadata": {},
   "source": [
    "## Single Image Haze Removal Using Dark Channel Prior[1]\n",
    "Steps of the algorithm:\n",
    "1. Compute the dark channel prior of the input hazy image.\n",
    "2. Estimate the global atmospheric light in the input image.\n",
    "3. Compute the transmission map of the input image using the dark channel prior and atmo-\n",
    "spheric light.\n",
    "4. Remove the haze from the input image using the estimated transmission map and atmospheric\n",
    "light.\n",
    "5. Clip the pixel values of the output image to the range of [0, 255]."
   ]
  },
  {
   "attachments": {},
   "cell_type": "markdown",
   "metadata": {},
   "source": [
    "## Water-Net[2]\n",
    "This is a CNN model trained by the UIEB dataset. A gated fusion network called Water-Net fuses the inputs and the predicted confidence maps to produce the improved outcome. The Feature Transformation Units (FTUs) first convert the inputs to the refined inputs before predicting the confidence maps. Finally, by combining the improved inputs and the corresponding confidence maps, the improved result is obtained.\n",
    "\n",
    "By individually applying White Balance (WB), Histogram Equalization (HE), and Gamma Correction (GC) algorithms to an underwater image, we produce three inputs. In particular, the WB algorithm is used to remove color casts, while the HE and GC algorithms work to boost contrast and brighten dark areas, respectively.\n"
   ]
  },
  {
   "attachments": {},
   "cell_type": "markdown",
   "metadata": {},
   "source": [
    "![alt text](assets\\Screenshot_1.png)\n",
    "You can see the Water-Net architecture. "
   ]
  },
  {
   "attachments": {},
   "cell_type": "markdown",
   "metadata": {},
   "source": [
    "## Traditional Image Processing Technique[3, 4]\n",
    "The approach used to enhance underwater images includes color correction, white balancing, contrast enhancement, unsharp masking, and fusion. First, the images are color corrected by compensating for the degradation of the red and blue channels, followed by white balancing using the Gray World algorithm. Then, the contrast of the color-corrected image is enhanced using global histogram equalization, and the image is sharpened using unsharp masking. Finally, two techniques are used for image fusion: averaging-based fusion and PCA-based fusion. The PCA-based fusion involves flattening the components of both images into a column vector, finding the mean, covariance matrix, and eigenvectors of the concatenated matrix, and obtaining the coefficients for each channel for both images to obtain the fused image.\n"
   ]
  },
  {
   "attachments": {},
   "cell_type": "markdown",
   "metadata": {},
   "source": [
    "## References\n",
    "[1] Kaiming He, Jian Sun and Xiaoou Tang, \"Single image haze removal using dark channel prior,\" 2009 IEEE Conference on Computer Vision and Pattern Recognition, Miami, FL, 2009, pp. 1956-1963, doi: 10.1109/CVPR.2009.5206515.\n",
    "[2] C. Li et al., \"An Underwater Image Enhancement Benchmark Dataset and Beyond,\" in IEEE Transactions on Image Processing, vol. 29, pp. 4376-4389, 2020, doi: 10.1109/TIP.2019.2955241.\n",
    "[3]Y. Wang, W. Song, G. Fortino, L. Qi, W. Zhang and A. Liotta, \"An Experimental-Based Review of Image Enhancement and Image Restoration Methods for Underwater Imaging,\" in IEEE Access, vol. 7, pp. 140233-140251,2019, doi: 10.1109/ACCESS.2019.2932130.\n",
    "[4] Weidong Zhang, Lili Dong, Tong Zhang, Wenhai Xu, Enhancing underwater image via color correction and Bi-interval contrast enhancement, Signal Processing: Image Communication, Volume 90, 2021, 116030, ISSN 0923-5965, https://doi.org/10.1016/j.image.2020.116030."
   ]
  }
 ],
 "metadata": {
  "language_info": {
   "name": "python"
  },
  "orig_nbformat": 4
 },
 "nbformat": 4,
 "nbformat_minor": 2
}
